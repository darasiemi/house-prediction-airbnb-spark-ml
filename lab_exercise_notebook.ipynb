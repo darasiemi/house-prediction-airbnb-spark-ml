{
  "cells": [
    {
      "cell_type": "markdown",
      "metadata": {
        "id": "2Lva30WfQX38"
      },
      "source": [
        "# Week11 - Machine Learning Using Spark's MLlib\n",
        "\n",
        "In this lab, we will build supervised learning (linear regression) models using Apache Spark's MLlib\n",
        "\n",
        "You are also recommended to work through the example delivered in Week11 lecture containing in the following directory on BrightSpace.\n",
        "\n",
        "**Learning Materials -> Week11: Probabilistic Algorithms in Streams, ML For Big Data -> MLlib Linear Regression Examples**\n",
        "\n",
        "https://brightspace.ucd.ie/d2l/le/content/249607/viewContent/2764212/View\n",
        "\n",
        "We will install and set up Spark and PySpark as we've done in previous weeks."
      ]
    },
    {
      "cell_type": "markdown",
      "metadata": {
        "id": "n-dqyodIPzHu"
      },
      "source": [
        "# Section 1 - Setting up Spark\n",
        "\n",
        "Install Java and Spark and set up Spark Session as we've done before."
      ]
    },
    {
      "cell_type": "code",
      "execution_count": 1,
      "metadata": {
        "id": "qaJkQGKIOGOv"
      },
      "outputs": [],
      "source": [
        "# Installing Java and Spark:\n",
        "!apt-get install openjdk-8-jdk-headless -qq > /dev/null"
      ]
    },
    {
      "cell_type": "code",
      "execution_count": 2,
      "metadata": {
        "colab": {
          "base_uri": "https://localhost:8080/"
        },
        "id": "VTLEYCy1Bk0G",
        "outputId": "83e9aab8-46c3-4c5e-a646-d84283945f19"
      },
      "outputs": [
        {
          "name": "stdout",
          "output_type": "stream",
          "text": [
            "There are 2 choices for the alternative java (providing /usr/bin/java).\n",
            "\n",
            "  Selection    Path                                            Priority   Status\n",
            "------------------------------------------------------------\n",
            "* 0            /usr/lib/jvm/java-11-openjdk-amd64/bin/java      1111      auto mode\n",
            "  1            /usr/lib/jvm/java-11-openjdk-amd64/bin/java      1111      manual mode\n",
            "  2            /usr/lib/jvm/java-8-openjdk-amd64/jre/bin/java   1081      manual mode\n",
            "\n",
            "Press <enter> to keep the current choice[*], or type selection number: 2\n",
            "update-alternatives: using /usr/lib/jvm/java-8-openjdk-amd64/jre/bin/java to provide /usr/bin/java (java) in manual mode\n",
            "There are 2 choices for the alternative javac (providing /usr/bin/javac).\n",
            "\n",
            "  Selection    Path                                          Priority   Status\n",
            "------------------------------------------------------------\n",
            "* 0            /usr/lib/jvm/java-11-openjdk-amd64/bin/javac   1111      auto mode\n",
            "  1            /usr/lib/jvm/java-11-openjdk-amd64/bin/javac   1111      manual mode\n",
            "  2            /usr/lib/jvm/java-8-openjdk-amd64/bin/javac    1081      manual mode\n",
            "\n",
            "Press <enter> to keep the current choice[*], or type selection number: 2\n",
            "update-alternatives: using /usr/lib/jvm/java-8-openjdk-amd64/bin/javac to provide /usr/bin/javac (javac) in manual mode\n",
            "There are 2 choices for the alternative jps (providing /usr/bin/jps).\n",
            "\n",
            "  Selection    Path                                        Priority   Status\n",
            "------------------------------------------------------------\n",
            "* 0            /usr/lib/jvm/java-11-openjdk-amd64/bin/jps   1111      auto mode\n",
            "  1            /usr/lib/jvm/java-11-openjdk-amd64/bin/jps   1111      manual mode\n",
            "  2            /usr/lib/jvm/java-8-openjdk-amd64/bin/jps    1081      manual mode\n",
            "\n",
            "Press <enter> to keep the current choice[*], or type selection number: 2\n",
            "update-alternatives: using /usr/lib/jvm/java-8-openjdk-amd64/bin/jps to provide /usr/bin/jps (jps) in manual mode\n"
          ]
        }
      ],
      "source": [
        "#Switching java version to use as default (choose option 2)\n",
        "!update-alternatives --config java\n",
        "#Switching javac version to use as default (choose option 2)\n",
        "!update-alternatives --config javac\n",
        "#Switching jps version to use as default (choose option 2)\n",
        "!update-alternatives --config jps"
      ]
    },
    {
      "cell_type": "code",
      "execution_count": 3,
      "metadata": {
        "colab": {
          "base_uri": "https://localhost:8080/"
        },
        "id": "g5aKV69sBvKr",
        "outputId": "0d1e6469-89b8-4058-e4bd-82f73ffef009"
      },
      "outputs": [
        {
          "name": "stdout",
          "output_type": "stream",
          "text": [
            "--2023-11-22 21:03:24--  https://dlcdn.apache.org/spark/spark-3.5.0/spark-3.5.0-bin-hadoop3.tgz\n",
            "Resolving dlcdn.apache.org (dlcdn.apache.org)... 151.101.2.132, 2a04:4e42::644\n",
            "Connecting to dlcdn.apache.org (dlcdn.apache.org)|151.101.2.132|:443... connected.\n",
            "HTTP request sent, awaiting response... 200 OK\n",
            "Length: 400395283 (382M) [application/x-gzip]\n",
            "Saving to: ‘spark-3.5.0-bin-hadoop3.tgz’\n",
            "\n",
            "spark-3.5.0-bin-had 100%[===================>] 381.85M   205MB/s    in 1.9s    \n",
            "\n",
            "2023-11-22 21:03:26 (205 MB/s) - ‘spark-3.5.0-bin-hadoop3.tgz’ saved [400395283/400395283]\n",
            "\n"
          ]
        }
      ],
      "source": [
        "!wget https://dlcdn.apache.org/spark/spark-3.5.1/spark-3.5.1-bin-hadoop3.tgz\n",
        "!tar xf spark-3.5.0-bin-hadoop3.tgz\n",
        "!rm spark-3.5.0-bin-hadoop3.tgz   # Tidying up"
      ]
    },
    {
      "cell_type": "code",
      "execution_count": 4,
      "metadata": {
        "colab": {
          "base_uri": "https://localhost:8080/"
        },
        "id": "F1Rzn3g6B5Dv",
        "outputId": "1fb6c6f1-b5da-4c82-8844-b04f8380c8d4"
      },
      "outputs": [
        {
          "name": "stdout",
          "output_type": "stream",
          "text": [
            "openjdk version \"1.8.0_382\"\n",
            "OpenJDK Runtime Environment (build 1.8.0_382-8u382-ga-1~22.04.1-b05)\n",
            "OpenJDK 64-Bit Server VM (build 25.382-b05, mixed mode)\n"
          ]
        }
      ],
      "source": [
        "#Checking Java default version\n",
        "!java -version"
      ]
    },
    {
      "cell_type": "code",
      "execution_count": 5,
      "metadata": {
        "id": "T8AIqhs1OHy3"
      },
      "outputs": [],
      "source": [
        "# Setting up our environmental variables:\n",
        "import os\n",
        "os.environ[\"JAVA_HOME\"] = \"/usr/lib/jvm/java-8-openjdk-amd64\"\n",
        "os.environ[\"SPARK_HOME\"] = \"/content/spark-3.5.1-bin-hadoop3\""
      ]
    },
    {
      "cell_type": "code",
      "execution_count": 6,
      "metadata": {
        "id": "XZHNQklVOJxp"
      },
      "outputs": [],
      "source": [
        "!pip install -q findspark\n",
        "import findspark\n",
        "findspark.init()"
      ]
    },
    {
      "cell_type": "code",
      "execution_count": 7,
      "metadata": {
        "id": "sivorbE4OMVw"
      },
      "outputs": [],
      "source": [
        "from pyspark import *\n",
        "from pyspark.sql import SparkSession\n",
        "import pyspark.sql.functions as F"
      ]
    },
    {
      "cell_type": "code",
      "execution_count": 8,
      "metadata": {
        "colab": {
          "base_uri": "https://localhost:8080/",
          "height": 219
        },
        "id": "ihVPokCXOs9f",
        "outputId": "3c34450d-ef59-4840-ca34-4fbb1500a859"
      },
      "outputs": [
        {
          "data": {
            "text/html": [
              "\n",
              "            <div>\n",
              "                <p><b>SparkSession - in-memory</b></p>\n",
              "                \n",
              "        <div>\n",
              "            <p><b>SparkContext</b></p>\n",
              "\n",
              "            <p><a href=\"http://b22ad3d4ee69:4040\">Spark UI</a></p>\n",
              "\n",
              "            <dl>\n",
              "              <dt>Version</dt>\n",
              "                <dd><code>v3.5.0</code></dd>\n",
              "              <dt>Master</dt>\n",
              "                <dd><code>local[*]</code></dd>\n",
              "              <dt>AppName</dt>\n",
              "                <dd><code>pyspark-shell</code></dd>\n",
              "            </dl>\n",
              "        </div>\n",
              "        \n",
              "            </div>\n",
              "        "
            ],
            "text/plain": [
              "<pyspark.sql.session.SparkSession at 0x7acfd4737e50>"
            ]
          },
          "execution_count": 8,
          "metadata": {},
          "output_type": "execute_result"
        }
      ],
      "source": [
        "spark = SparkSession.builder.master(\"local[*]\").getOrCreate()\n",
        "spark"
      ]
    },
    {
      "cell_type": "markdown",
      "metadata": {
        "id": "2SX3v6rOpEy8"
      },
      "source": [
        "# Section 1 - Linear Regression Model Using One Model Variable\n",
        "\n",
        "Upload the **San Francisco housing data set**.\n",
        "\n",
        "More details about the dataset below:\n",
        "http://insideairbnb.com/get-the-data/\n",
        "\n",
        "data/sf-airbnb/sf-airbnb-clean-100p.parquet.zip\n",
        "\n",
        "Look at the header line in (data/sf-airbnb/sf-airbnb.csv) for the column names.\n",
        "\n",
        "```python\n",
        "id,listing_url,scrape_id,last_scraped,name,summary,space,description,experiences_offered,neighborhood_overview,notes,transit,access,interaction,house_rules,thumbnail_url,medium_url,picture_url,xl_picture_url,host_id,host_url,host_name,host_since,host_location,host_about,host_response_time,host_response_rate,host_acceptance_rate,host_is_superhost,host_thumbnail_url,host_picture_url,host_neighbourhood,host_listings_count,host_total_listings_count,host_verifications,...\n",
        "```"
      ]
    },
    {
      "cell_type": "code",
      "execution_count": 16,
      "metadata": {
        "colab": {
          "base_uri": "https://localhost:8080/",
          "height": 75
        },
        "id": "Oaqr-ZbCpNuq",
        "outputId": "99d5ceea-3a4e-4e8f-8aff-09cdfeca60fd"
      },
      "outputs": [
        {
          "data": {
            "text/html": [
              "\n",
              "     <input type=\"file\" id=\"files-354f984b-61e6-4575-a76d-87cbf4997eea\" name=\"files[]\" multiple disabled\n",
              "        style=\"border:none\" />\n",
              "     <output id=\"result-354f984b-61e6-4575-a76d-87cbf4997eea\">\n",
              "      Upload widget is only available when the cell has been executed in the\n",
              "      current browser session. Please rerun this cell to enable.\n",
              "      </output>\n",
              "      <script>// Copyright 2017 Google LLC\n",
              "//\n",
              "// Licensed under the Apache License, Version 2.0 (the \"License\");\n",
              "// you may not use this file except in compliance with the License.\n",
              "// You may obtain a copy of the License at\n",
              "//\n",
              "//      http://www.apache.org/licenses/LICENSE-2.0\n",
              "//\n",
              "// Unless required by applicable law or agreed to in writing, software\n",
              "// distributed under the License is distributed on an \"AS IS\" BASIS,\n",
              "// WITHOUT WARRANTIES OR CONDITIONS OF ANY KIND, either express or implied.\n",
              "// See the License for the specific language governing permissions and\n",
              "// limitations under the License.\n",
              "\n",
              "/**\n",
              " * @fileoverview Helpers for google.colab Python module.\n",
              " */\n",
              "(function(scope) {\n",
              "function span(text, styleAttributes = {}) {\n",
              "  const element = document.createElement('span');\n",
              "  element.textContent = text;\n",
              "  for (const key of Object.keys(styleAttributes)) {\n",
              "    element.style[key] = styleAttributes[key];\n",
              "  }\n",
              "  return element;\n",
              "}\n",
              "\n",
              "// Max number of bytes which will be uploaded at a time.\n",
              "const MAX_PAYLOAD_SIZE = 100 * 1024;\n",
              "\n",
              "function _uploadFiles(inputId, outputId) {\n",
              "  const steps = uploadFilesStep(inputId, outputId);\n",
              "  const outputElement = document.getElementById(outputId);\n",
              "  // Cache steps on the outputElement to make it available for the next call\n",
              "  // to uploadFilesContinue from Python.\n",
              "  outputElement.steps = steps;\n",
              "\n",
              "  return _uploadFilesContinue(outputId);\n",
              "}\n",
              "\n",
              "// This is roughly an async generator (not supported in the browser yet),\n",
              "// where there are multiple asynchronous steps and the Python side is going\n",
              "// to poll for completion of each step.\n",
              "// This uses a Promise to block the python side on completion of each step,\n",
              "// then passes the result of the previous step as the input to the next step.\n",
              "function _uploadFilesContinue(outputId) {\n",
              "  const outputElement = document.getElementById(outputId);\n",
              "  const steps = outputElement.steps;\n",
              "\n",
              "  const next = steps.next(outputElement.lastPromiseValue);\n",
              "  return Promise.resolve(next.value.promise).then((value) => {\n",
              "    // Cache the last promise value to make it available to the next\n",
              "    // step of the generator.\n",
              "    outputElement.lastPromiseValue = value;\n",
              "    return next.value.response;\n",
              "  });\n",
              "}\n",
              "\n",
              "/**\n",
              " * Generator function which is called between each async step of the upload\n",
              " * process.\n",
              " * @param {string} inputId Element ID of the input file picker element.\n",
              " * @param {string} outputId Element ID of the output display.\n",
              " * @return {!Iterable<!Object>} Iterable of next steps.\n",
              " */\n",
              "function* uploadFilesStep(inputId, outputId) {\n",
              "  const inputElement = document.getElementById(inputId);\n",
              "  inputElement.disabled = false;\n",
              "\n",
              "  const outputElement = document.getElementById(outputId);\n",
              "  outputElement.innerHTML = '';\n",
              "\n",
              "  const pickedPromise = new Promise((resolve) => {\n",
              "    inputElement.addEventListener('change', (e) => {\n",
              "      resolve(e.target.files);\n",
              "    });\n",
              "  });\n",
              "\n",
              "  const cancel = document.createElement('button');\n",
              "  inputElement.parentElement.appendChild(cancel);\n",
              "  cancel.textContent = 'Cancel upload';\n",
              "  const cancelPromise = new Promise((resolve) => {\n",
              "    cancel.onclick = () => {\n",
              "      resolve(null);\n",
              "    };\n",
              "  });\n",
              "\n",
              "  // Wait for the user to pick the files.\n",
              "  const files = yield {\n",
              "    promise: Promise.race([pickedPromise, cancelPromise]),\n",
              "    response: {\n",
              "      action: 'starting',\n",
              "    }\n",
              "  };\n",
              "\n",
              "  cancel.remove();\n",
              "\n",
              "  // Disable the input element since further picks are not allowed.\n",
              "  inputElement.disabled = true;\n",
              "\n",
              "  if (!files) {\n",
              "    return {\n",
              "      response: {\n",
              "        action: 'complete',\n",
              "      }\n",
              "    };\n",
              "  }\n",
              "\n",
              "  for (const file of files) {\n",
              "    const li = document.createElement('li');\n",
              "    li.append(span(file.name, {fontWeight: 'bold'}));\n",
              "    li.append(span(\n",
              "        `(${file.type || 'n/a'}) - ${file.size} bytes, ` +\n",
              "        `last modified: ${\n",
              "            file.lastModifiedDate ? file.lastModifiedDate.toLocaleDateString() :\n",
              "                                    'n/a'} - `));\n",
              "    const percent = span('0% done');\n",
              "    li.appendChild(percent);\n",
              "\n",
              "    outputElement.appendChild(li);\n",
              "\n",
              "    const fileDataPromise = new Promise((resolve) => {\n",
              "      const reader = new FileReader();\n",
              "      reader.onload = (e) => {\n",
              "        resolve(e.target.result);\n",
              "      };\n",
              "      reader.readAsArrayBuffer(file);\n",
              "    });\n",
              "    // Wait for the data to be ready.\n",
              "    let fileData = yield {\n",
              "      promise: fileDataPromise,\n",
              "      response: {\n",
              "        action: 'continue',\n",
              "      }\n",
              "    };\n",
              "\n",
              "    // Use a chunked sending to avoid message size limits. See b/62115660.\n",
              "    let position = 0;\n",
              "    do {\n",
              "      const length = Math.min(fileData.byteLength - position, MAX_PAYLOAD_SIZE);\n",
              "      const chunk = new Uint8Array(fileData, position, length);\n",
              "      position += length;\n",
              "\n",
              "      const base64 = btoa(String.fromCharCode.apply(null, chunk));\n",
              "      yield {\n",
              "        response: {\n",
              "          action: 'append',\n",
              "          file: file.name,\n",
              "          data: base64,\n",
              "        },\n",
              "      };\n",
              "\n",
              "      let percentDone = fileData.byteLength === 0 ?\n",
              "          100 :\n",
              "          Math.round((position / fileData.byteLength) * 100);\n",
              "      percent.textContent = `${percentDone}% done`;\n",
              "\n",
              "    } while (position < fileData.byteLength);\n",
              "  }\n",
              "\n",
              "  // All done.\n",
              "  yield {\n",
              "    response: {\n",
              "      action: 'complete',\n",
              "    }\n",
              "  };\n",
              "}\n",
              "\n",
              "scope.google = scope.google || {};\n",
              "scope.google.colab = scope.google.colab || {};\n",
              "scope.google.colab._files = {\n",
              "  _uploadFiles,\n",
              "  _uploadFilesContinue,\n",
              "};\n",
              "})(self);\n",
              "</script> "
            ],
            "text/plain": [
              "<IPython.core.display.HTML object>"
            ]
          },
          "metadata": {},
          "output_type": "display_data"
        },
        {
          "name": "stdout",
          "output_type": "stream",
          "text": [
            "Saving sf-airbnb-clean-100p.parquet.zip to sf-airbnb-clean-100p.parquet.zip\n"
          ]
        }
      ],
      "source": [
        "from google.colab import files\n",
        "uploaded = files.upload()"
      ]
    },
    {
      "cell_type": "code",
      "execution_count": 17,
      "metadata": {
        "colab": {
          "base_uri": "https://localhost:8080/"
        },
        "id": "I_v3lSY459VW",
        "outputId": "55cab110-fa48-4f16-c6f3-49e6ad35ab57"
      },
      "outputs": [
        {
          "name": "stdout",
          "output_type": "stream",
          "text": [
            "Archive:  sf-airbnb-clean-100p.parquet.zip\n",
            "   creating: sf-airbnb-clean-100p.parquet/\n",
            "  inflating: sf-airbnb-clean-100p.parquet/_SUCCESS  \n",
            "  inflating: sf-airbnb-clean-100p.parquet/_committed_773940399323573814  \n",
            "  inflating: sf-airbnb-clean-100p.parquet/_started_773940399323573814  \n",
            "  inflating: sf-airbnb-clean-100p.parquet/part-00000-tid-773940399323573814-405a9fc3-d671-450e-b78b-78ebc9e2fada-16947-1-c000.snappy.parquet  \n",
            "  inflating: sf-airbnb-clean-100p.parquet/part-00001-tid-773940399323573814-405a9fc3-d671-450e-b78b-78ebc9e2fada-16948-1-c000.snappy.parquet  \n",
            "  inflating: sf-airbnb-clean-100p.parquet/part-00002-tid-773940399323573814-405a9fc3-d671-450e-b78b-78ebc9e2fada-16949-1-c000.snappy.parquet  \n",
            "  inflating: sf-airbnb-clean-100p.parquet/part-00003-tid-773940399323573814-405a9fc3-d671-450e-b78b-78ebc9e2fada-16950-1-c000.snappy.parquet  \n",
            "  inflating: sf-airbnb-clean-100p.parquet/part-00004-tid-773940399323573814-405a9fc3-d671-450e-b78b-78ebc9e2fada-16951-1-c000.snappy.parquet  \n",
            "  inflating: sf-airbnb-clean-100p.parquet/part-00005-tid-773940399323573814-405a9fc3-d671-450e-b78b-78ebc9e2fada-16952-1-c000.snappy.parquet  \n",
            "  inflating: sf-airbnb-clean-100p.parquet/part-00006-tid-773940399323573814-405a9fc3-d671-450e-b78b-78ebc9e2fada-16953-1-c000.snappy.parquet  \n",
            "  inflating: sf-airbnb-clean-100p.parquet/part-00007-tid-773940399323573814-405a9fc3-d671-450e-b78b-78ebc9e2fada-16954-1-c000.snappy.parquet  \n",
            "  inflating: sf-airbnb-clean-100p.parquet/part-00008-tid-773940399323573814-405a9fc3-d671-450e-b78b-78ebc9e2fada-16955-1-c000.snappy.parquet  \n",
            "  inflating: sf-airbnb-clean-100p.parquet/part-00009-tid-773940399323573814-405a9fc3-d671-450e-b78b-78ebc9e2fada-16956-1-c000.snappy.parquet  \n",
            "  inflating: sf-airbnb-clean-100p.parquet/part-00010-tid-773940399323573814-405a9fc3-d671-450e-b78b-78ebc9e2fada-16957-1-c000.snappy.parquet  \n",
            "  inflating: sf-airbnb-clean-100p.parquet/part-00011-tid-773940399323573814-405a9fc3-d671-450e-b78b-78ebc9e2fada-16958-1-c000.snappy.parquet  \n",
            "  inflating: sf-airbnb-clean-100p.parquet/part-00012-tid-773940399323573814-405a9fc3-d671-450e-b78b-78ebc9e2fada-16959-1-c000.snappy.parquet  \n",
            "  inflating: sf-airbnb-clean-100p.parquet/part-00013-tid-773940399323573814-405a9fc3-d671-450e-b78b-78ebc9e2fada-16960-1-c000.snappy.parquet  \n",
            "  inflating: sf-airbnb-clean-100p.parquet/part-00014-tid-773940399323573814-405a9fc3-d671-450e-b78b-78ebc9e2fada-16961-1-c000.snappy.parquet  \n",
            "  inflating: sf-airbnb-clean-100p.parquet/part-00015-tid-773940399323573814-405a9fc3-d671-450e-b78b-78ebc9e2fada-16962-1-c000.snappy.parquet  \n",
            "  inflating: sf-airbnb-clean-100p.parquet/part-00016-tid-773940399323573814-405a9fc3-d671-450e-b78b-78ebc9e2fada-16963-1-c000.snappy.parquet  \n",
            "  inflating: sf-airbnb-clean-100p.parquet/part-00017-tid-773940399323573814-405a9fc3-d671-450e-b78b-78ebc9e2fada-16964-1-c000.snappy.parquet  \n",
            "  inflating: sf-airbnb-clean-100p.parquet/part-00018-tid-773940399323573814-405a9fc3-d671-450e-b78b-78ebc9e2fada-16965-1-c000.snappy.parquet  \n",
            "  inflating: sf-airbnb-clean-100p.parquet/part-00019-tid-773940399323573814-405a9fc3-d671-450e-b78b-78ebc9e2fada-16966-1-c000.snappy.parquet  \n",
            "  inflating: sf-airbnb-clean-100p.parquet/part-00020-tid-773940399323573814-405a9fc3-d671-450e-b78b-78ebc9e2fada-16967-1-c000.snappy.parquet  \n",
            "  inflating: sf-airbnb-clean-100p.parquet/part-00021-tid-773940399323573814-405a9fc3-d671-450e-b78b-78ebc9e2fada-16968-1-c000.snappy.parquet  \n",
            "  inflating: sf-airbnb-clean-100p.parquet/part-00022-tid-773940399323573814-405a9fc3-d671-450e-b78b-78ebc9e2fada-16969-1-c000.snappy.parquet  \n",
            "  inflating: sf-airbnb-clean-100p.parquet/part-00023-tid-773940399323573814-405a9fc3-d671-450e-b78b-78ebc9e2fada-16970-1-c000.snappy.parquet  \n",
            "  inflating: sf-airbnb-clean-100p.parquet/part-00024-tid-773940399323573814-405a9fc3-d671-450e-b78b-78ebc9e2fada-16971-1-c000.snappy.parquet  \n",
            "  inflating: sf-airbnb-clean-100p.parquet/part-00025-tid-773940399323573814-405a9fc3-d671-450e-b78b-78ebc9e2fada-16972-1-c000.snappy.parquet  \n",
            "  inflating: sf-airbnb-clean-100p.parquet/part-00026-tid-773940399323573814-405a9fc3-d671-450e-b78b-78ebc9e2fada-16973-1-c000.snappy.parquet  \n",
            "  inflating: sf-airbnb-clean-100p.parquet/part-00027-tid-773940399323573814-405a9fc3-d671-450e-b78b-78ebc9e2fada-16974-1-c000.snappy.parquet  \n",
            "  inflating: sf-airbnb-clean-100p.parquet/part-00028-tid-773940399323573814-405a9fc3-d671-450e-b78b-78ebc9e2fada-16975-1-c000.snappy.parquet  \n",
            "  inflating: sf-airbnb-clean-100p.parquet/part-00029-tid-773940399323573814-405a9fc3-d671-450e-b78b-78ebc9e2fada-16976-1-c000.snappy.parquet  \n",
            "  inflating: sf-airbnb-clean-100p.parquet/part-00030-tid-773940399323573814-405a9fc3-d671-450e-b78b-78ebc9e2fada-16977-1-c000.snappy.parquet  \n",
            "  inflating: sf-airbnb-clean-100p.parquet/part-00031-tid-773940399323573814-405a9fc3-d671-450e-b78b-78ebc9e2fada-16978-1-c000.snappy.parquet  \n",
            "  inflating: sf-airbnb-clean-100p.parquet/part-00032-tid-773940399323573814-405a9fc3-d671-450e-b78b-78ebc9e2fada-16979-1-c000.snappy.parquet  \n",
            "  inflating: sf-airbnb-clean-100p.parquet/part-00033-tid-773940399323573814-405a9fc3-d671-450e-b78b-78ebc9e2fada-16980-1-c000.snappy.parquet  \n",
            "  inflating: sf-airbnb-clean-100p.parquet/part-00034-tid-773940399323573814-405a9fc3-d671-450e-b78b-78ebc9e2fada-16981-1-c000.snappy.parquet  \n",
            "  inflating: sf-airbnb-clean-100p.parquet/part-00035-tid-773940399323573814-405a9fc3-d671-450e-b78b-78ebc9e2fada-16982-1-c000.snappy.parquet  \n",
            "  inflating: sf-airbnb-clean-100p.parquet/part-00036-tid-773940399323573814-405a9fc3-d671-450e-b78b-78ebc9e2fada-16983-1-c000.snappy.parquet  \n",
            "  inflating: sf-airbnb-clean-100p.parquet/part-00037-tid-773940399323573814-405a9fc3-d671-450e-b78b-78ebc9e2fada-16984-1-c000.snappy.parquet  \n",
            "  inflating: sf-airbnb-clean-100p.parquet/part-00038-tid-773940399323573814-405a9fc3-d671-450e-b78b-78ebc9e2fada-16985-1-c000.snappy.parquet  \n",
            "  inflating: sf-airbnb-clean-100p.parquet/part-00039-tid-773940399323573814-405a9fc3-d671-450e-b78b-78ebc9e2fada-16986-1-c000.snappy.parquet  \n",
            "  inflating: sf-airbnb-clean-100p.parquet/part-00040-tid-773940399323573814-405a9fc3-d671-450e-b78b-78ebc9e2fada-16987-1-c000.snappy.parquet  \n",
            "  inflating: sf-airbnb-clean-100p.parquet/part-00041-tid-773940399323573814-405a9fc3-d671-450e-b78b-78ebc9e2fada-16988-1-c000.snappy.parquet  \n",
            "  inflating: sf-airbnb-clean-100p.parquet/part-00042-tid-773940399323573814-405a9fc3-d671-450e-b78b-78ebc9e2fada-16989-1-c000.snappy.parquet  \n",
            "  inflating: sf-airbnb-clean-100p.parquet/part-00043-tid-773940399323573814-405a9fc3-d671-450e-b78b-78ebc9e2fada-16990-1-c000.snappy.parquet  \n",
            "  inflating: sf-airbnb-clean-100p.parquet/part-00044-tid-773940399323573814-405a9fc3-d671-450e-b78b-78ebc9e2fada-16991-1-c000.snappy.parquet  \n",
            "  inflating: sf-airbnb-clean-100p.parquet/part-00045-tid-773940399323573814-405a9fc3-d671-450e-b78b-78ebc9e2fada-16992-1-c000.snappy.parquet  \n",
            "  inflating: sf-airbnb-clean-100p.parquet/part-00046-tid-773940399323573814-405a9fc3-d671-450e-b78b-78ebc9e2fada-16993-1-c000.snappy.parquet  \n",
            "  inflating: sf-airbnb-clean-100p.parquet/part-00047-tid-773940399323573814-405a9fc3-d671-450e-b78b-78ebc9e2fada-16994-1-c000.snappy.parquet  \n",
            "  inflating: sf-airbnb-clean-100p.parquet/part-00048-tid-773940399323573814-405a9fc3-d671-450e-b78b-78ebc9e2fada-16995-1-c000.snappy.parquet  \n",
            "  inflating: sf-airbnb-clean-100p.parquet/part-00049-tid-773940399323573814-405a9fc3-d671-450e-b78b-78ebc9e2fada-16996-1-c000.snappy.parquet  \n",
            "  inflating: sf-airbnb-clean-100p.parquet/part-00050-tid-773940399323573814-405a9fc3-d671-450e-b78b-78ebc9e2fada-16997-1-c000.snappy.parquet  \n",
            "  inflating: sf-airbnb-clean-100p.parquet/part-00051-tid-773940399323573814-405a9fc3-d671-450e-b78b-78ebc9e2fada-16998-1-c000.snappy.parquet  \n",
            "  inflating: sf-airbnb-clean-100p.parquet/part-00052-tid-773940399323573814-405a9fc3-d671-450e-b78b-78ebc9e2fada-16999-1-c000.snappy.parquet  \n",
            "  inflating: sf-airbnb-clean-100p.parquet/part-00053-tid-773940399323573814-405a9fc3-d671-450e-b78b-78ebc9e2fada-17000-1-c000.snappy.parquet  \n",
            "  inflating: sf-airbnb-clean-100p.parquet/part-00054-tid-773940399323573814-405a9fc3-d671-450e-b78b-78ebc9e2fada-17001-1-c000.snappy.parquet  \n",
            "  inflating: sf-airbnb-clean-100p.parquet/part-00055-tid-773940399323573814-405a9fc3-d671-450e-b78b-78ebc9e2fada-17002-1-c000.snappy.parquet  \n",
            "  inflating: sf-airbnb-clean-100p.parquet/part-00056-tid-773940399323573814-405a9fc3-d671-450e-b78b-78ebc9e2fada-17003-1-c000.snappy.parquet  \n",
            "  inflating: sf-airbnb-clean-100p.parquet/part-00057-tid-773940399323573814-405a9fc3-d671-450e-b78b-78ebc9e2fada-17004-1-c000.snappy.parquet  \n",
            "  inflating: sf-airbnb-clean-100p.parquet/part-00058-tid-773940399323573814-405a9fc3-d671-450e-b78b-78ebc9e2fada-17005-1-c000.snappy.parquet  \n",
            "  inflating: sf-airbnb-clean-100p.parquet/part-00059-tid-773940399323573814-405a9fc3-d671-450e-b78b-78ebc9e2fada-17006-1-c000.snappy.parquet  \n",
            "  inflating: sf-airbnb-clean-100p.parquet/part-00060-tid-773940399323573814-405a9fc3-d671-450e-b78b-78ebc9e2fada-17007-1-c000.snappy.parquet  \n",
            "  inflating: sf-airbnb-clean-100p.parquet/part-00061-tid-773940399323573814-405a9fc3-d671-450e-b78b-78ebc9e2fada-17008-1-c000.snappy.parquet  \n",
            "  inflating: sf-airbnb-clean-100p.parquet/part-00062-tid-773940399323573814-405a9fc3-d671-450e-b78b-78ebc9e2fada-17009-1-c000.snappy.parquet  \n",
            "  inflating: sf-airbnb-clean-100p.parquet/part-00063-tid-773940399323573814-405a9fc3-d671-450e-b78b-78ebc9e2fada-17010-1-c000.snappy.parquet  \n",
            "  inflating: sf-airbnb-clean-100p.parquet/part-00064-tid-773940399323573814-405a9fc3-d671-450e-b78b-78ebc9e2fada-17011-1-c000.snappy.parquet  \n",
            "  inflating: sf-airbnb-clean-100p.parquet/part-00065-tid-773940399323573814-405a9fc3-d671-450e-b78b-78ebc9e2fada-17012-1-c000.snappy.parquet  \n",
            "  inflating: sf-airbnb-clean-100p.parquet/part-00066-tid-773940399323573814-405a9fc3-d671-450e-b78b-78ebc9e2fada-17013-1-c000.snappy.parquet  \n",
            "  inflating: sf-airbnb-clean-100p.parquet/part-00067-tid-773940399323573814-405a9fc3-d671-450e-b78b-78ebc9e2fada-17014-1-c000.snappy.parquet  \n",
            "  inflating: sf-airbnb-clean-100p.parquet/part-00068-tid-773940399323573814-405a9fc3-d671-450e-b78b-78ebc9e2fada-17015-1-c000.snappy.parquet  \n",
            "  inflating: sf-airbnb-clean-100p.parquet/part-00069-tid-773940399323573814-405a9fc3-d671-450e-b78b-78ebc9e2fada-17016-1-c000.snappy.parquet  \n",
            "  inflating: sf-airbnb-clean-100p.parquet/part-00070-tid-773940399323573814-405a9fc3-d671-450e-b78b-78ebc9e2fada-17017-1-c000.snappy.parquet  \n",
            "  inflating: sf-airbnb-clean-100p.parquet/part-00071-tid-773940399323573814-405a9fc3-d671-450e-b78b-78ebc9e2fada-17018-1-c000.snappy.parquet  \n",
            "  inflating: sf-airbnb-clean-100p.parquet/part-00072-tid-773940399323573814-405a9fc3-d671-450e-b78b-78ebc9e2fada-17019-1-c000.snappy.parquet  \n",
            "  inflating: sf-airbnb-clean-100p.parquet/part-00073-tid-773940399323573814-405a9fc3-d671-450e-b78b-78ebc9e2fada-17020-1-c000.snappy.parquet  \n",
            "  inflating: sf-airbnb-clean-100p.parquet/part-00074-tid-773940399323573814-405a9fc3-d671-450e-b78b-78ebc9e2fada-17021-1-c000.snappy.parquet  \n",
            "  inflating: sf-airbnb-clean-100p.parquet/part-00075-tid-773940399323573814-405a9fc3-d671-450e-b78b-78ebc9e2fada-17022-1-c000.snappy.parquet  \n",
            "  inflating: sf-airbnb-clean-100p.parquet/part-00076-tid-773940399323573814-405a9fc3-d671-450e-b78b-78ebc9e2fada-17023-1-c000.snappy.parquet  \n",
            "  inflating: sf-airbnb-clean-100p.parquet/part-00077-tid-773940399323573814-405a9fc3-d671-450e-b78b-78ebc9e2fada-17024-1-c000.snappy.parquet  \n",
            "  inflating: sf-airbnb-clean-100p.parquet/part-00078-tid-773940399323573814-405a9fc3-d671-450e-b78b-78ebc9e2fada-17025-1-c000.snappy.parquet  \n",
            "  inflating: sf-airbnb-clean-100p.parquet/part-00079-tid-773940399323573814-405a9fc3-d671-450e-b78b-78ebc9e2fada-17026-1-c000.snappy.parquet  \n",
            "  inflating: sf-airbnb-clean-100p.parquet/part-00080-tid-773940399323573814-405a9fc3-d671-450e-b78b-78ebc9e2fada-17027-1-c000.snappy.parquet  \n",
            "  inflating: sf-airbnb-clean-100p.parquet/part-00081-tid-773940399323573814-405a9fc3-d671-450e-b78b-78ebc9e2fada-17028-1-c000.snappy.parquet  \n",
            "  inflating: sf-airbnb-clean-100p.parquet/part-00082-tid-773940399323573814-405a9fc3-d671-450e-b78b-78ebc9e2fada-17029-1-c000.snappy.parquet  \n",
            "  inflating: sf-airbnb-clean-100p.parquet/part-00083-tid-773940399323573814-405a9fc3-d671-450e-b78b-78ebc9e2fada-17030-1-c000.snappy.parquet  \n",
            "  inflating: sf-airbnb-clean-100p.parquet/part-00084-tid-773940399323573814-405a9fc3-d671-450e-b78b-78ebc9e2fada-17031-1-c000.snappy.parquet  \n",
            "  inflating: sf-airbnb-clean-100p.parquet/part-00085-tid-773940399323573814-405a9fc3-d671-450e-b78b-78ebc9e2fada-17032-1-c000.snappy.parquet  \n",
            "  inflating: sf-airbnb-clean-100p.parquet/part-00086-tid-773940399323573814-405a9fc3-d671-450e-b78b-78ebc9e2fada-17033-1-c000.snappy.parquet  \n",
            "  inflating: sf-airbnb-clean-100p.parquet/part-00087-tid-773940399323573814-405a9fc3-d671-450e-b78b-78ebc9e2fada-17034-1-c000.snappy.parquet  \n",
            "  inflating: sf-airbnb-clean-100p.parquet/part-00088-tid-773940399323573814-405a9fc3-d671-450e-b78b-78ebc9e2fada-17035-1-c000.snappy.parquet  \n",
            "  inflating: sf-airbnb-clean-100p.parquet/part-00089-tid-773940399323573814-405a9fc3-d671-450e-b78b-78ebc9e2fada-17036-1-c000.snappy.parquet  \n",
            "  inflating: sf-airbnb-clean-100p.parquet/part-00090-tid-773940399323573814-405a9fc3-d671-450e-b78b-78ebc9e2fada-17037-1-c000.snappy.parquet  \n",
            "  inflating: sf-airbnb-clean-100p.parquet/part-00091-tid-773940399323573814-405a9fc3-d671-450e-b78b-78ebc9e2fada-17038-1-c000.snappy.parquet  \n",
            "  inflating: sf-airbnb-clean-100p.parquet/part-00092-tid-773940399323573814-405a9fc3-d671-450e-b78b-78ebc9e2fada-17039-1-c000.snappy.parquet  \n",
            "  inflating: sf-airbnb-clean-100p.parquet/part-00093-tid-773940399323573814-405a9fc3-d671-450e-b78b-78ebc9e2fada-17040-1-c000.snappy.parquet  \n",
            "  inflating: sf-airbnb-clean-100p.parquet/part-00094-tid-773940399323573814-405a9fc3-d671-450e-b78b-78ebc9e2fada-17041-1-c000.snappy.parquet  \n",
            "  inflating: sf-airbnb-clean-100p.parquet/part-00095-tid-773940399323573814-405a9fc3-d671-450e-b78b-78ebc9e2fada-17042-1-c000.snappy.parquet  \n",
            "  inflating: sf-airbnb-clean-100p.parquet/part-00096-tid-773940399323573814-405a9fc3-d671-450e-b78b-78ebc9e2fada-17043-1-c000.snappy.parquet  \n",
            "  inflating: sf-airbnb-clean-100p.parquet/part-00097-tid-773940399323573814-405a9fc3-d671-450e-b78b-78ebc9e2fada-17044-1-c000.snappy.parquet  \n",
            "  inflating: sf-airbnb-clean-100p.parquet/part-00098-tid-773940399323573814-405a9fc3-d671-450e-b78b-78ebc9e2fada-17045-1-c000.snappy.parquet  \n",
            "  inflating: sf-airbnb-clean-100p.parquet/part-00099-tid-773940399323573814-405a9fc3-d671-450e-b78b-78ebc9e2fada-17046-1-c000.snappy.parquet  \n"
          ]
        }
      ],
      "source": [
        "!unzip sf-airbnb-clean-100p.parquet.zip"
      ]
    },
    {
      "cell_type": "markdown",
      "metadata": {
        "id": "ONNF1oRx1Xiy"
      },
      "source": [
        "We will build a linear regression Model. The model is used to predict the **price per night** for a rental property, given the **number of bedrooms** as a model variable.\n",
        "\n",
        "First step is data ingestion and exploration."
      ]
    },
    {
      "cell_type": "code",
      "execution_count": 18,
      "metadata": {
        "colab": {
          "base_uri": "https://localhost:8080/"
        },
        "id": "BTNuW4Z61wg-",
        "outputId": "b2dc8911-509f-4cd3-ec6a-26196446ca46"
      },
      "outputs": [
        {
          "name": "stdout",
          "output_type": "stream",
          "text": [
            "root\n",
            " |-- host_is_superhost: string (nullable = true)\n",
            " |-- cancellation_policy: string (nullable = true)\n",
            " |-- instant_bookable: string (nullable = true)\n",
            " |-- host_total_listings_count: double (nullable = true)\n",
            " |-- neighbourhood_cleansed: string (nullable = true)\n",
            " |-- zipcode: string (nullable = true)\n",
            " |-- latitude: double (nullable = true)\n",
            " |-- longitude: double (nullable = true)\n",
            " |-- property_type: string (nullable = true)\n",
            " |-- room_type: string (nullable = true)\n",
            " |-- accommodates: double (nullable = true)\n",
            " |-- bathrooms: double (nullable = true)\n",
            " |-- bedrooms: double (nullable = true)\n",
            " |-- beds: double (nullable = true)\n",
            " |-- bed_type: string (nullable = true)\n",
            " |-- minimum_nights: double (nullable = true)\n",
            " |-- number_of_reviews: double (nullable = true)\n",
            " |-- review_scores_rating: double (nullable = true)\n",
            " |-- review_scores_accuracy: double (nullable = true)\n",
            " |-- review_scores_cleanliness: double (nullable = true)\n",
            " |-- review_scores_checkin: double (nullable = true)\n",
            " |-- review_scores_communication: double (nullable = true)\n",
            " |-- review_scores_location: double (nullable = true)\n",
            " |-- review_scores_value: double (nullable = true)\n",
            " |-- price: double (nullable = true)\n",
            " |-- bedrooms_na: double (nullable = true)\n",
            " |-- bathrooms_na: double (nullable = true)\n",
            " |-- beds_na: double (nullable = true)\n",
            " |-- review_scores_rating_na: double (nullable = true)\n",
            " |-- review_scores_accuracy_na: double (nullable = true)\n",
            " |-- review_scores_cleanliness_na: double (nullable = true)\n",
            " |-- review_scores_checkin_na: double (nullable = true)\n",
            " |-- review_scores_communication_na: double (nullable = true)\n",
            " |-- review_scores_location_na: double (nullable = true)\n",
            " |-- review_scores_value_na: double (nullable = true)\n",
            "\n",
            "None\n",
            "StructType([StructField('host_is_superhost', StringType(), True), StructField('cancellation_policy', StringType(), True), StructField('instant_bookable', StringType(), True), StructField('host_total_listings_count', DoubleType(), True), StructField('neighbourhood_cleansed', StringType(), True), StructField('zipcode', StringType(), True), StructField('latitude', DoubleType(), True), StructField('longitude', DoubleType(), True), StructField('property_type', StringType(), True), StructField('room_type', StringType(), True), StructField('accommodates', DoubleType(), True), StructField('bathrooms', DoubleType(), True), StructField('bedrooms', DoubleType(), True), StructField('beds', DoubleType(), True), StructField('bed_type', StringType(), True), StructField('minimum_nights', DoubleType(), True), StructField('number_of_reviews', DoubleType(), True), StructField('review_scores_rating', DoubleType(), True), StructField('review_scores_accuracy', DoubleType(), True), StructField('review_scores_cleanliness', DoubleType(), True), StructField('review_scores_checkin', DoubleType(), True), StructField('review_scores_communication', DoubleType(), True), StructField('review_scores_location', DoubleType(), True), StructField('review_scores_value', DoubleType(), True), StructField('price', DoubleType(), True), StructField('bedrooms_na', DoubleType(), True), StructField('bathrooms_na', DoubleType(), True), StructField('beds_na', DoubleType(), True), StructField('review_scores_rating_na', DoubleType(), True), StructField('review_scores_accuracy_na', DoubleType(), True), StructField('review_scores_cleanliness_na', DoubleType(), True), StructField('review_scores_checkin_na', DoubleType(), True), StructField('review_scores_communication_na', DoubleType(), True), StructField('review_scores_location_na', DoubleType(), True), StructField('review_scores_value_na', DoubleType(), True)])\n",
            "+----------------------+---------------+--------+---------+-----------------+-----+\n",
            "|neighbourhood_cleansed|      room_type|bedrooms|bathrooms|number_of_reviews|price|\n",
            "+----------------------+---------------+--------+---------+-----------------+-----+\n",
            "|  Downtown/Civic Ce...|   Private room|     1.0|      1.0|              2.0| 49.0|\n",
            "|               Mission|Entire home/apt|     2.0|      1.0|              1.0|300.0|\n",
            "|               Mission|Entire home/apt|     5.0|      3.5|              0.0|481.0|\n",
            "|        Inner Richmond|Entire home/apt|     1.0|      1.0|              0.0|132.0|\n",
            "|            Noe Valley|Entire home/apt|     3.0|      1.0|              9.0|190.0|\n",
            "+----------------------+---------------+--------+---------+-----------------+-----+\n",
            "only showing top 5 rows\n",
            "\n"
          ]
        }
      ],
      "source": [
        "from pyspark.ml import Pipeline\n",
        "from pyspark.ml import PipelineModel\n",
        "from pyspark.ml.feature import VectorAssembler, StringIndexer\n",
        "from pyspark.ml.regression import RandomForestRegressor\n",
        "from pyspark.ml.evaluation import RegressionEvaluator\n",
        "from pyspark.ml.regression import LinearRegression\n",
        "\n",
        "filePath = \"\"\"sf-airbnb-clean-100p.parquet/\"\"\"\n",
        "airbnbDF = spark.read.parquet(filePath)\n",
        "print(airbnbDF.printSchema())\n",
        "print(airbnbDF.schema)\n",
        "airbnbDF.select(\"neighbourhood_cleansed\", \"room_type\", \"bedrooms\", \"bathrooms\", \"number_of_reviews\", \"price\").show(5)"
      ]
    },
    {
      "cell_type": "markdown",
      "metadata": {
        "id": "Wmq-kFCJ3AMA"
      },
      "source": [
        "We will use 80% for the training set and 20% for the test set.\n",
        "\n",
        "A random seed is used for reproducibility. Its value is not that important.\n",
        "\n",
        "It ensures that that the same data points go into the train and test datasets whenever the code is rerun."
      ]
    },
    {
      "cell_type": "code",
      "execution_count": 19,
      "metadata": {
        "colab": {
          "base_uri": "https://localhost:8080/"
        },
        "id": "yIjgiAJv3E35",
        "outputId": "2cc83ca9-b031-4d05-8bfe-c9b32df5d2a0"
      },
      "outputs": [
        {
          "name": "stdout",
          "output_type": "stream",
          "text": [
            "There are 5770 rows in the training set, and 1376 in the test set\n"
          ]
        }
      ],
      "source": [
        "trainDF, testDF = airbnbDF.randomSplit([.8, .2], seed=42)\n",
        "print(f\"\"\"There are {trainDF.count()} rows in the training set, and {testDF.count()} in the test set\"\"\")"
      ]
    },
    {
      "cell_type": "markdown",
      "metadata": {
        "id": "B2pQ6mO83MOd"
      },
      "source": [
        "To apply linear regression, all the input features must be contained within a single vector in your DataFrame.\n",
        "\n",
        "We will use a transformer to transform the data by applying rule-based transformations using the transform() method.\n",
        "\n",
        "The VectorAssembler transformer takes a list of input columns and creates a new DataFrame with an additional column (features)."
      ]
    },
    {
      "cell_type": "code",
      "execution_count": 20,
      "metadata": {
        "colab": {
          "base_uri": "https://localhost:8080/"
        },
        "id": "WJEACTWh3Vgi",
        "outputId": "f5277c5c-558b-456f-e665-ac0ff7b98f80"
      },
      "outputs": [
        {
          "name": "stdout",
          "output_type": "stream",
          "text": [
            "+--------+--------+------+\n",
            "|bedrooms|features| price|\n",
            "+--------+--------+------+\n",
            "|     1.0|   [1.0]| 250.0|\n",
            "|     1.0|   [1.0]| 115.0|\n",
            "|     1.0|   [1.0]| 130.0|\n",
            "|     1.0|   [1.0]| 130.0|\n",
            "|     1.0|   [1.0]| 100.0|\n",
            "|     2.0|   [2.0]| 199.0|\n",
            "|     1.0|   [1.0]| 190.0|\n",
            "|     1.0|   [1.0]|2010.0|\n",
            "|     2.0|   [2.0]| 250.0|\n",
            "|     3.0|   [3.0]| 200.0|\n",
            "+--------+--------+------+\n",
            "only showing top 10 rows\n",
            "\n"
          ]
        }
      ],
      "source": [
        "vecAssembler = VectorAssembler(inputCols=[\"bedrooms\"], outputCol=\"features\")\n",
        "vecTrainDF = vecAssembler.transform(trainDF)\n",
        "vecTrainDF.select(\"bedrooms\", \"features\", \"price\").show(10)"
      ]
    },
    {
      "cell_type": "markdown",
      "metadata": {
        "id": "g0FdbXcc3Z4i"
      },
      "source": [
        "LinearRegression is a type of estimator, which takes in a DataFrame and returns a Model.\n",
        "\n",
        "Estimators learn parameters from your data, have an estimator_name.fit() method, and are eagerly evaluated unlike transformers are lazily evaluated."
      ]
    },
    {
      "cell_type": "code",
      "execution_count": 21,
      "metadata": {
        "colab": {
          "base_uri": "https://localhost:8080/"
        },
        "id": "2vIsiPMt3gcr",
        "outputId": "f496b29c-76b3-4a07-ac76-eab91d55b555"
      },
      "outputs": [
        {
          "name": "stdout",
          "output_type": "stream",
          "text": [
            "The formula for the linear regression line is price = 120.02*bedrooms + 52.63\n"
          ]
        }
      ],
      "source": [
        "lr = LinearRegression(featuresCol=\"features\", labelCol=\"price\")\n",
        "lrModel = lr.fit(vecTrainDF)\n",
        "\n",
        "m = round(lrModel.coefficients[0], 2)\n",
        "b = round(lrModel.intercept, 2)\n",
        "print(f\"\"\"The formula for the linear regression line is price = {m}*bedrooms + {b}\"\"\")"
      ]
    },
    {
      "cell_type": "markdown",
      "metadata": {
        "id": "zIAI9Kfy3wEe"
      },
      "source": [
        "The Pipeline API allows specifying the stages you want your data to pass through.\n",
        "\n",
        "In Spark, Pipelines are estimators, whereas PipelineModels (fitted Pipelines) are transformers.\n",
        "\n",
        "The Pipeline API determines which stages are estimators/transformers and applies name.fit() and name.transform() for each of the stages accordingly."
      ]
    },
    {
      "cell_type": "code",
      "execution_count": 22,
      "metadata": {
        "colab": {
          "base_uri": "https://localhost:8080/"
        },
        "id": "WzrtrqpB34Gq",
        "outputId": "92138a7e-54af-4728-f9a9-2db9cb728653"
      },
      "outputs": [
        {
          "name": "stdout",
          "output_type": "stream",
          "text": [
            "+--------+--------+------+------------------+\n",
            "|bedrooms|features| price|        prediction|\n",
            "+--------+--------+------+------------------+\n",
            "|     1.0|   [1.0]|  70.0|172.65166349560025|\n",
            "|     1.0|   [1.0]| 159.0|172.65166349560025|\n",
            "|     1.0|   [1.0]| 115.0|172.65166349560025|\n",
            "|     1.0|   [1.0]| 105.0|172.65166349560025|\n",
            "|     3.0|   [3.0]| 170.0|412.69702083787956|\n",
            "|     2.0|   [2.0]| 165.0| 292.6743421667399|\n",
            "|     2.0|   [2.0]| 300.0| 292.6743421667399|\n",
            "|     2.0|   [2.0]| 145.0| 292.6743421667399|\n",
            "|     4.0|   [4.0]|1450.0| 532.7196995090192|\n",
            "|     2.0|   [2.0]| 160.0| 292.6743421667399|\n",
            "+--------+--------+------+------------------+\n",
            "only showing top 10 rows\n",
            "\n"
          ]
        }
      ],
      "source": [
        "pipeline = Pipeline(stages=[vecAssembler, lr])\n",
        "pipelineModel = pipeline.fit(trainDF)\n",
        "predDF = pipelineModel.transform(testDF)\n",
        "predDF.select(\"bedrooms\", \"features\", \"price\", \"prediction\").show(10)"
      ]
    },
    {
      "cell_type": "markdown",
      "metadata": {
        "id": "SZfg0NdK6f8d"
      },
      "source": [
        "Root-mean-square-error (RMSE) is used to evaluate the prediction accuracy of LinearRegression model.\n",
        "\n",
        "It is a metric from 0 to ∞. The closer it is to 0, the better the prediction accuracy."
      ]
    },
    {
      "cell_type": "code",
      "execution_count": 23,
      "metadata": {
        "colab": {
          "base_uri": "https://localhost:8080/"
        },
        "id": "xke4xymi6hYN",
        "outputId": "d133429c-9f12-4352-8773-f6dc76507f87"
      },
      "outputs": [
        {
          "name": "stdout",
          "output_type": "stream",
          "text": [
            "RMSE is 267.6\n"
          ]
        }
      ],
      "source": [
        "regressionEvaluator = RegressionEvaluator(\n",
        "                          predictionCol=\"prediction\",\n",
        "                          labelCol=\"price\",\n",
        "                          metricName=\"rmse\")\n",
        "rmse = regressionEvaluator.evaluate(predDF)\n",
        "print(f\"RMSE is {rmse:.1f}\")"
      ]
    },
    {
      "cell_type": "markdown",
      "metadata": {
        "id": "WM6esNer5XLt"
      },
      "source": [
        "# Section 2 - Linear Regression Using Multiple Model Variables.\n",
        "\n",
        "Use the following dependant model variables to model the price per night using Linear Regression.\n",
        "\n",
        "``` python\n",
        "airbnbMVars = [ \"acommodates\",\n",
        "                \"bathrooms\",\n",
        "                \"bedrooms\",\n",
        "                \"beds\",\n",
        "                \"minimum_nights\",\n",
        "                \"review_scores_rating\" ]\n",
        "```\n",
        "\n",
        "Follow the steps below:\n",
        "\n",
        "1). Data Ingestion.\n",
        "\n",
        "2). Feature engineering using transformers.\n",
        "\n",
        "3). Build LR model.\n",
        "\n",
        "4). Create a ML pipeline.\n",
        "\n",
        "5). Evaluate the RMSE of the model."
      ]
    },
    {
      "cell_type": "code",
      "execution_count": null,
      "metadata": {
        "id": "v1Txio2a3pKA"
      },
      "outputs": [],
      "source": [
        "# Solve:"
      ]
    }
  ],
  "metadata": {
    "colab": {
      "provenance": []
    },
    "kernelspec": {
      "display_name": "Python 3",
      "name": "python3"
    },
    "language_info": {
      "name": "python"
    }
  },
  "nbformat": 4,
  "nbformat_minor": 0
}
